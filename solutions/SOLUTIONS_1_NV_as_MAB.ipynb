{
  "nbformat": 4,
  "nbformat_minor": 0,
  "metadata": {
    "colab": {
      "name": "SOLUTIONS 1: NV as MAB.ipynb",
      "provenance": [],
      "collapsed_sections": [],
      "authorship_tag": "ABX9TyNi1vYR7+SsJQYgUUPwDD57",
      "include_colab_link": true
    },
    "kernelspec": {
      "name": "python3",
      "display_name": "Python 3"
    },
    "language_info": {
      "name": "python"
    }
  },
  "cells": [
    {
      "cell_type": "markdown",
      "metadata": {
        "id": "view-in-github",
        "colab_type": "text"
      },
      "source": [
        "<a href=\"https://colab.research.google.com/github/LarrySnyder/RLforInventory/blob/main/solutions/SOLUTIONS_1_NV_as_MAB.ipynb\" target=\"_parent\"><img src=\"https://colab.research.google.com/assets/colab-badge.svg\" alt=\"Open In Colab\"/></a>"
      ]
    },
    {
      "cell_type": "markdown",
      "source": [
        "# SOLUTIONS: The Newsvendor Problem as a Multi-Armed Bandit (MAB)\n",
        "\n",
        "This notebook contains code for an MAB implementation of the newsvendor problem.\n",
        "\n",
        "---\n",
        "> **Note:** This file is read-only. To work with it, you first need to save a copy to your Google Drive:\n",
        "> \n",
        "> 1. Go to the File menu. (The File menu inside the notebook, right below the filename—not the File menu in your browser, at the top of your screen.)\n",
        "> 2. Choose Save a copy in Drive. (Log in to your Google account, if necessary.) Feel free to move it to a different folder in your Drive, if you want.\n",
        "> 3. Colab should open up a new browser tab with your copy of the notebook. \n",
        "> 4. Close the original read-only notebook in your browser.\n",
        "---\n",
        "\n",
        "---\n",
        "> This notebook is part of the *Summer Bootcamp at Kellogg: RL in Operations* workshop at Northwestern University, August 2022. The notebooks are for Day 4, taught by Prof. Larry Snyder, Lehigh University.\n",
        "---"
      ],
      "metadata": {
        "id": "Ulij2zKcmrrD"
      }
    },
    {
      "cell_type": "markdown",
      "source": [
        "In the **newsvendor problem**, the goal is to choose an order quantity $Q$ to use in each time period, in order to minimize the expected cost per period, given by\n",
        "\n",
        "$$g(Q) = {\\mathbb E}\\left[h(Q-D)^+ + p(D-Q)^+\\right],$$\n",
        "\n",
        "where $h$ is the **holding cost** (aka overage cost, the cost per unit left over at the end of the day), $p$ is the **stockout cost** (aka underage cost, the cost per unit of unmet demand), $D$ is the **demand** (a random variable), and $z^+ \\equiv \\max\\{0, z\\}$.\n",
        "\n",
        "We'll assume the demand has a discrete probability distribution with pmf $f(d)$ and cdf $F(d)$, in which case\n",
        "\n",
        "$$g(Q) = h\\sum_{d=0}^Q (Q-d)f(d) + p\\sum_{d=Q}^\\infty (d-Q)f(d).$$\n",
        "\n",
        "This is the objective function for the newsvendor problem, which we wish to minimize. Equivalently, we can maximize the expected reward function (to stay consistent with RL and MAB terminology), which is the negative of the cost function:\n",
        "\n",
        "$$r(Q) = -g(Q).$$\n",
        "\n",
        "The optimal order quantity $Q^*$, which minimizes the expected cost or maximizes the expected reward, is the smallest $Q$ such that\n",
        "\n",
        "$$F(Q) \\ge \\frac{p}{p+h}.$$\n",
        "\n",
        "In this notebook, we will model the newsvendor problem as a **multi-armed bandit (MAB)**."
      ],
      "metadata": {
        "id": "lJy8OExCbHMc"
      }
    },
    {
      "cell_type": "markdown",
      "source": [
        "### Preliminary Python Stuff"
      ],
      "metadata": {
        "id": "Uf0iIJL1bM4o"
      }
    },
    {
      "cell_type": "code",
      "execution_count": null,
      "metadata": {
        "id": "LtETQocUlivA"
      },
      "outputs": [],
      "source": [
        "# Import the packages we will need.\n",
        "import numpy as np\n",
        "import matplotlib.pyplot as plt\n",
        "from scipy.stats import norm, poisson"
      ]
    },
    {
      "cell_type": "markdown",
      "source": [
        "We have to install the `stockpyl` package so we can use it below. (It doesn't come pre-installed on Colab like `numpy`, etc. do.) You should only need to do this once per notebook.\n",
        "\n",
        "If you get a message like\n",
        "\n",
        "```\n",
        "WARNING: The following packages were previously imported in this runtime:\n",
        "  [sphinxcontrib]\n",
        "You must restart the runtime in order to use newly installed versions.\n",
        "```\n",
        "\n",
        "you can ignore it.\n"
      ],
      "metadata": {
        "id": "mvYa1KQUnuVG"
      }
    },
    {
      "cell_type": "code",
      "source": [
        "!pip install stockpyl"
      ],
      "metadata": {
        "id": "0-KOixlOny1X",
        "colab": {
          "base_uri": "https://localhost:8080/",
          "height": 1000
        },
        "outputId": "1aabc7d8-2512-462f-9fad-fd5d948a3c1a"
      },
      "execution_count": null,
      "outputs": [
        {
          "output_type": "stream",
          "name": "stdout",
          "text": [
            "Looking in indexes: https://pypi.org/simple, https://us-python.pkg.dev/colab-wheels/public/simple/\n",
            "Collecting stockpyl\n",
            "  Downloading stockpyl-0.0.13-py3-none-any.whl (146 kB)\n",
            "\u001b[K     |████████████████████████████████| 146 kB 7.8 MB/s \n",
            "\u001b[?25hCollecting sphinx==4.5.0\n",
            "  Downloading Sphinx-4.5.0-py3-none-any.whl (3.1 MB)\n",
            "\u001b[K     |████████████████████████████████| 3.1 MB 37.7 MB/s \n",
            "\u001b[?25hRequirement already satisfied: setuptools>=49.6 in /usr/local/lib/python3.7/dist-packages (from stockpyl) (57.4.0)\n",
            "Requirement already satisfied: scipy>=1.6.0 in /usr/local/lib/python3.7/dist-packages (from stockpyl) (1.7.3)\n",
            "Collecting sphinx-rtd-theme>=1.0.0\n",
            "  Downloading sphinx_rtd_theme-1.0.0-py2.py3-none-any.whl (2.8 MB)\n",
            "\u001b[K     |████████████████████████████████| 2.8 MB 7.5 MB/s \n",
            "\u001b[?25hRequirement already satisfied: networkx>=2.0 in /usr/local/lib/python3.7/dist-packages (from stockpyl) (2.6.3)\n",
            "Collecting sphinx-toolbox>=3.1.2\n",
            "  Downloading sphinx_toolbox-3.1.2-py3-none-any.whl (512 kB)\n",
            "\u001b[K     |████████████████████████████████| 512 kB 10.2 MB/s \n",
            "\u001b[?25hRequirement already satisfied: numpy>=1.21 in /usr/local/lib/python3.7/dist-packages (from stockpyl) (1.21.6)\n",
            "Requirement already satisfied: matplotlib>=2.0 in /usr/local/lib/python3.7/dist-packages (from stockpyl) (3.2.2)\n",
            "Collecting jsonpickle>=1.0\n",
            "  Downloading jsonpickle-2.2.0-py2.py3-none-any.whl (39 kB)\n",
            "Requirement already satisfied: tabulate>=0.8.7 in /usr/local/lib/python3.7/dist-packages (from stockpyl) (0.8.10)\n",
            "Collecting build>=0.0.2\n",
            "  Downloading build-0.8.0-py3-none-any.whl (17 kB)\n",
            "Requirement already satisfied: tqdm>=4.1.0 in /usr/local/lib/python3.7/dist-packages (from stockpyl) (4.64.0)\n",
            "Collecting sphinxcontrib-jsmath\n",
            "  Downloading sphinxcontrib_jsmath-1.0.1-py2.py3-none-any.whl (5.1 kB)\n",
            "Requirement already satisfied: Pygments>=2.0 in /usr/local/lib/python3.7/dist-packages (from sphinx==4.5.0->stockpyl) (2.6.1)\n",
            "Requirement already satisfied: packaging in /usr/local/lib/python3.7/dist-packages (from sphinx==4.5.0->stockpyl) (21.3)\n",
            "Requirement already satisfied: docutils<0.18,>=0.14 in /usr/local/lib/python3.7/dist-packages (from sphinx==4.5.0->stockpyl) (0.17.1)\n",
            "Requirement already satisfied: babel>=1.3 in /usr/local/lib/python3.7/dist-packages (from sphinx==4.5.0->stockpyl) (2.10.3)\n",
            "Collecting sphinxcontrib-devhelp\n",
            "  Downloading sphinxcontrib_devhelp-1.0.2-py2.py3-none-any.whl (84 kB)\n",
            "\u001b[K     |████████████████████████████████| 84 kB 1.2 MB/s \n",
            "\u001b[?25hRequirement already satisfied: alabaster<0.8,>=0.7 in /usr/local/lib/python3.7/dist-packages (from sphinx==4.5.0->stockpyl) (0.7.12)\n",
            "Collecting sphinxcontrib-qthelp\n",
            "  Downloading sphinxcontrib_qthelp-1.0.3-py2.py3-none-any.whl (90 kB)\n",
            "\u001b[K     |████████████████████████████████| 90 kB 2.5 MB/s \n",
            "\u001b[?25hRequirement already satisfied: imagesize in /usr/local/lib/python3.7/dist-packages (from sphinx==4.5.0->stockpyl) (1.4.1)\n",
            "Collecting sphinxcontrib-applehelp\n",
            "  Downloading sphinxcontrib_applehelp-1.0.2-py2.py3-none-any.whl (121 kB)\n",
            "\u001b[K     |████████████████████████████████| 121 kB 45.6 MB/s \n",
            "\u001b[?25hCollecting sphinxcontrib-htmlhelp>=2.0.0\n",
            "  Downloading sphinxcontrib_htmlhelp-2.0.0-py2.py3-none-any.whl (100 kB)\n",
            "\u001b[K     |████████████████████████████████| 100 kB 1.7 MB/s \n",
            "\u001b[?25hRequirement already satisfied: sphinxcontrib-serializinghtml>=1.1.5 in /usr/local/lib/python3.7/dist-packages (from sphinx==4.5.0->stockpyl) (1.1.5)\n",
            "Requirement already satisfied: Jinja2>=2.3 in /usr/local/lib/python3.7/dist-packages (from sphinx==4.5.0->stockpyl) (2.11.3)\n",
            "Requirement already satisfied: snowballstemmer>=1.1 in /usr/local/lib/python3.7/dist-packages (from sphinx==4.5.0->stockpyl) (2.2.0)\n",
            "Requirement already satisfied: requests>=2.5.0 in /usr/local/lib/python3.7/dist-packages (from sphinx==4.5.0->stockpyl) (2.23.0)\n",
            "Requirement already satisfied: importlib-metadata>=4.4 in /usr/local/lib/python3.7/dist-packages (from sphinx==4.5.0->stockpyl) (4.12.0)\n",
            "Requirement already satisfied: pytz>=2015.7 in /usr/local/lib/python3.7/dist-packages (from babel>=1.3->sphinx==4.5.0->stockpyl) (2022.1)\n",
            "Requirement already satisfied: pep517>=0.9.1 in /usr/local/lib/python3.7/dist-packages (from build>=0.0.2->stockpyl) (0.13.0)\n",
            "Requirement already satisfied: tomli>=1.0.0 in /usr/local/lib/python3.7/dist-packages (from build>=0.0.2->stockpyl) (2.0.1)\n",
            "Requirement already satisfied: typing-extensions>=3.6.4 in /usr/local/lib/python3.7/dist-packages (from importlib-metadata>=4.4->sphinx==4.5.0->stockpyl) (4.1.1)\n",
            "Requirement already satisfied: zipp>=0.5 in /usr/local/lib/python3.7/dist-packages (from importlib-metadata>=4.4->sphinx==4.5.0->stockpyl) (3.8.1)\n",
            "Requirement already satisfied: MarkupSafe>=0.23 in /usr/local/lib/python3.7/dist-packages (from Jinja2>=2.3->sphinx==4.5.0->stockpyl) (2.0.1)\n",
            "Requirement already satisfied: kiwisolver>=1.0.1 in /usr/local/lib/python3.7/dist-packages (from matplotlib>=2.0->stockpyl) (1.4.4)\n",
            "Requirement already satisfied: cycler>=0.10 in /usr/local/lib/python3.7/dist-packages (from matplotlib>=2.0->stockpyl) (0.11.0)\n",
            "Requirement already satisfied: pyparsing!=2.0.4,!=2.1.2,!=2.1.6,>=2.0.1 in /usr/local/lib/python3.7/dist-packages (from matplotlib>=2.0->stockpyl) (3.0.9)\n",
            "Requirement already satisfied: python-dateutil>=2.1 in /usr/local/lib/python3.7/dist-packages (from matplotlib>=2.0->stockpyl) (2.8.2)\n",
            "Requirement already satisfied: six>=1.5 in /usr/local/lib/python3.7/dist-packages (from python-dateutil>=2.1->matplotlib>=2.0->stockpyl) (1.15.0)\n",
            "Requirement already satisfied: urllib3!=1.25.0,!=1.25.1,<1.26,>=1.21.1 in /usr/local/lib/python3.7/dist-packages (from requests>=2.5.0->sphinx==4.5.0->stockpyl) (1.24.3)\n",
            "Requirement already satisfied: chardet<4,>=3.0.2 in /usr/local/lib/python3.7/dist-packages (from requests>=2.5.0->sphinx==4.5.0->stockpyl) (3.0.4)\n",
            "Requirement already satisfied: idna<3,>=2.5 in /usr/local/lib/python3.7/dist-packages (from requests>=2.5.0->sphinx==4.5.0->stockpyl) (2.10)\n",
            "Requirement already satisfied: certifi>=2017.4.17 in /usr/local/lib/python3.7/dist-packages (from requests>=2.5.0->sphinx==4.5.0->stockpyl) (2022.6.15)\n",
            "Collecting beautifulsoup4>=4.9.1\n",
            "  Downloading beautifulsoup4-4.11.1-py3-none-any.whl (128 kB)\n",
            "\u001b[K     |████████████████████████████████| 128 kB 10.7 MB/s \n",
            "\u001b[?25hCollecting sphinx-jinja2-compat>=0.1.0\n",
            "  Downloading sphinx_jinja2_compat-0.1.2-py3-none-any.whl (12 kB)\n",
            "Collecting autodocsumm>=0.2.0\n",
            "  Downloading autodocsumm-0.2.9-py3-none-any.whl (13 kB)\n",
            "Collecting apeye>=0.4.0\n",
            "  Downloading apeye-1.2.0-py3-none-any.whl (118 kB)\n",
            "\u001b[K     |████████████████████████████████| 118 kB 44.2 MB/s \n",
            "\u001b[?25hCollecting dict2css>=0.2.3\n",
            "  Downloading dict2css-0.3.0-py3-none-any.whl (25 kB)\n",
            "Collecting html5lib>=1.1\n",
            "  Downloading html5lib-1.1-py2.py3-none-any.whl (112 kB)\n",
            "\u001b[K     |████████████████████████████████| 112 kB 40.0 MB/s \n",
            "\u001b[?25hCollecting sphinx-prompt>=1.1.0\n",
            "  Downloading sphinx_prompt-1.5.0-py3-none-any.whl (4.5 kB)\n",
            "Requirement already satisfied: cachecontrol[filecache]>=0.12.6 in /usr/local/lib/python3.7/dist-packages (from sphinx-toolbox>=3.1.2->stockpyl) (0.12.11)\n",
            "Collecting ruamel.yaml>=0.16.12\n",
            "  Downloading ruamel.yaml-0.17.21-py3-none-any.whl (109 kB)\n",
            "\u001b[K     |████████████████████████████████| 109 kB 47.1 MB/s \n",
            "\u001b[?25hCollecting sphinx-tabs<3.5.0,>=1.2.1\n",
            "  Downloading sphinx_tabs-3.4.1-py3-none-any.whl (10.0 kB)\n",
            "Collecting sphinx-autodoc-typehints>=1.11.1\n",
            "  Downloading sphinx_autodoc_typehints-1.19.2-py3-none-any.whl (12 kB)\n",
            "Collecting typing-inspect>=0.6.0\n",
            "  Downloading typing_inspect-0.7.1-py3-none-any.whl (8.4 kB)\n",
            "Collecting domdf-python-tools>=2.9.0\n",
            "  Downloading domdf_python_tools-3.3.0-py3-none-any.whl (126 kB)\n",
            "\u001b[K     |████████████████████████████████| 126 kB 48.5 MB/s \n",
            "\u001b[?25hCollecting lockfile>=0.12.2\n",
            "  Downloading lockfile-0.12.2-py2.py3-none-any.whl (13 kB)\n",
            "Collecting requests>=2.5.0\n",
            "  Downloading requests-2.28.1-py3-none-any.whl (62 kB)\n",
            "\u001b[K     |████████████████████████████████| 62 kB 1.3 MB/s \n",
            "\u001b[?25hCollecting platformdirs>=2.3.0\n",
            "  Downloading platformdirs-2.5.2-py3-none-any.whl (14 kB)\n",
            "Collecting soupsieve>1.2\n",
            "  Downloading soupsieve-2.3.2.post1-py3-none-any.whl (37 kB)\n",
            "Requirement already satisfied: msgpack>=0.5.2 in /usr/local/lib/python3.7/dist-packages (from cachecontrol[filecache]>=0.12.6->sphinx-toolbox>=3.1.2->stockpyl) (1.0.4)\n",
            "Collecting cssutils>=2.2.0\n",
            "  Downloading cssutils-2.5.1-py3-none-any.whl (399 kB)\n",
            "\u001b[K     |████████████████████████████████| 399 kB 45.5 MB/s \n",
            "\u001b[?25hCollecting natsort>=7.0.1\n",
            "  Downloading natsort-8.1.0-py3-none-any.whl (37 kB)\n",
            "Requirement already satisfied: webencodings in /usr/local/lib/python3.7/dist-packages (from html5lib>=1.1->sphinx-toolbox>=3.1.2->stockpyl) (0.5.1)\n",
            "Requirement already satisfied: charset-normalizer<3,>=2 in /usr/local/lib/python3.7/dist-packages (from requests>=2.5.0->sphinx==4.5.0->stockpyl) (2.1.0)\n",
            "Collecting ruamel.yaml.clib>=0.2.6\n",
            "  Downloading ruamel.yaml.clib-0.2.6-cp37-cp37m-manylinux1_x86_64.whl (546 kB)\n",
            "\u001b[K     |████████████████████████████████| 546 kB 35.3 MB/s \n",
            "\u001b[?25hCollecting sphinx-autodoc-typehints>=1.11.1\n",
            "  Downloading sphinx_autodoc_typehints-1.19.1-py3-none-any.whl (12 kB)\n",
            "Collecting sphinx-tabs<3.5.0,>=1.2.1\n",
            "  Downloading sphinx_tabs-3.4.0-py3-none-any.whl (10.0 kB)\n",
            "Collecting mypy-extensions>=0.3.0\n",
            "  Downloading mypy_extensions-0.4.3-py2.py3-none-any.whl (4.5 kB)\n",
            "Installing collected packages: sphinxcontrib-qthelp, sphinxcontrib-jsmath, sphinxcontrib-htmlhelp, sphinxcontrib-devhelp, sphinxcontrib-applehelp, requests, natsort, sphinx, soupsieve, ruamel.yaml.clib, platformdirs, mypy-extensions, lockfile, domdf-python-tools, cssutils, typing-inspect, sphinx-tabs, sphinx-prompt, sphinx-jinja2-compat, sphinx-autodoc-typehints, ruamel.yaml, html5lib, dict2css, beautifulsoup4, autodocsumm, apeye, sphinx-toolbox, sphinx-rtd-theme, jsonpickle, build, stockpyl\n",
            "  Attempting uninstall: requests\n",
            "    Found existing installation: requests 2.23.0\n",
            "    Uninstalling requests-2.23.0:\n",
            "      Successfully uninstalled requests-2.23.0\n",
            "  Attempting uninstall: natsort\n",
            "    Found existing installation: natsort 5.5.0\n",
            "    Uninstalling natsort-5.5.0:\n",
            "      Successfully uninstalled natsort-5.5.0\n",
            "  Attempting uninstall: sphinx\n",
            "    Found existing installation: Sphinx 1.8.6\n",
            "    Uninstalling Sphinx-1.8.6:\n",
            "      Successfully uninstalled Sphinx-1.8.6\n",
            "  Attempting uninstall: html5lib\n",
            "    Found existing installation: html5lib 1.0.1\n",
            "    Uninstalling html5lib-1.0.1:\n",
            "      Successfully uninstalled html5lib-1.0.1\n",
            "  Attempting uninstall: beautifulsoup4\n",
            "    Found existing installation: beautifulsoup4 4.6.3\n",
            "    Uninstalling beautifulsoup4-4.6.3:\n",
            "      Successfully uninstalled beautifulsoup4-4.6.3\n",
            "Successfully installed apeye-1.2.0 autodocsumm-0.2.9 beautifulsoup4-4.11.1 build-0.8.0 cssutils-2.5.1 dict2css-0.3.0 domdf-python-tools-3.3.0 html5lib-1.1 jsonpickle-2.2.0 lockfile-0.12.2 mypy-extensions-0.4.3 natsort-8.1.0 platformdirs-2.5.2 requests-2.28.1 ruamel.yaml-0.17.21 ruamel.yaml.clib-0.2.6 soupsieve-2.3.2.post1 sphinx-4.5.0 sphinx-autodoc-typehints-1.19.1 sphinx-jinja2-compat-0.1.2 sphinx-prompt-1.5.0 sphinx-rtd-theme-1.0.0 sphinx-tabs-3.4.0 sphinx-toolbox-3.1.2 sphinxcontrib-applehelp-1.0.2 sphinxcontrib-devhelp-1.0.2 sphinxcontrib-htmlhelp-2.0.0 sphinxcontrib-jsmath-1.0.1 sphinxcontrib-qthelp-1.0.3 stockpyl-0.0.13 typing-inspect-0.7.1\n"
          ]
        },
        {
          "output_type": "display_data",
          "data": {
            "application/vnd.colab-display-data+json": {
              "pip_warning": {
                "packages": [
                  "sphinxcontrib"
                ]
              }
            }
          },
          "metadata": {}
        }
      ]
    },
    {
      "cell_type": "code",
      "source": [
        "from stockpyl import newsvendor"
      ],
      "metadata": {
        "id": "tQq454GKoC7d"
      },
      "execution_count": null,
      "outputs": []
    },
    {
      "cell_type": "markdown",
      "source": [
        "### Bandit Class\n",
        "\n",
        "First, we'll define a `Bandit` class that implements a generic multi-armed bandit (MAB). \n",
        "\n",
        "The class is very simple. It has two attributes:\n",
        "\n",
        "* `k`: the number of arms\n",
        "* `mean`: a list of mean rewards, one per bandit\n",
        "* `sd`: a list of standard deviations of rewards, one per bandit\n",
        "\n",
        "And the class has two methods:\n",
        "\n",
        "* `__init__()` initializes the class\n",
        "* `pull()` takes an action and returns a randomly generated reward for that action\n",
        "\n",
        "At its default values, the bandit has $k=5$ arms whose rewards have mean $[1, \\ldots, 5]$ (respectively) and standard deviation 1."
      ],
      "metadata": {
        "id": "SslqScfqbukw"
      }
    },
    {
      "cell_type": "code",
      "source": [
        "class Bandit(object):\n",
        "\n",
        "    def __init__(self, k: int = 5, mean: list = list(range(5)), sd: list = [1]*5):\n",
        "        \"\"\"Initialize the attributes.\"\"\"\n",
        "        self.k = k\n",
        "        self.mean = mean\n",
        "        self.sd = sd\n",
        "\n",
        "    def pull(self, action: int):\n",
        "        \"\"\"Get a random variate from a normal distribution with the mean and SD\n",
        "        corresponding to the action.\"\"\"\n",
        "        return norm.rvs(loc=self.mean[action], scale=self.sd[action])\n"
      ],
      "metadata": {
        "id": "436FfGBHdXqd"
      },
      "execution_count": null,
      "outputs": []
    },
    {
      "cell_type": "markdown",
      "source": [
        "Let's give it a spin 🎰. \n",
        "\n",
        "(Sorry—dad joke.) "
      ],
      "metadata": {
        "id": "zBFNKQJ-eFsM"
      }
    },
    {
      "cell_type": "code",
      "source": [
        "bandit = Bandit(k=3, mean=[5, 3, 1], sd=[1, 1, 0.5])\n",
        "for _ in range(10):\n",
        "    a = np.random.randint(3)\n",
        "    r = bandit.pull(a)\n",
        "    print(f\"Pulled arm {a}, got reward {r}\")"
      ],
      "metadata": {
        "colab": {
          "base_uri": "https://localhost:8080/"
        },
        "id": "g-0IjixGePss",
        "outputId": "ecd5cc39-2a98-4cd7-bb46-fc36e2fe64f7"
      },
      "execution_count": null,
      "outputs": [
        {
          "output_type": "stream",
          "name": "stdout",
          "text": [
            "Pulled arm 1, got reward 1.0469537102769693\n",
            "Pulled arm 2, got reward 1.546132905051067\n",
            "Pulled arm 0, got reward 4.878669700799473\n",
            "Pulled arm 2, got reward 1.0378581579850361\n",
            "Pulled arm 0, got reward 6.394765944390836\n",
            "Pulled arm 0, got reward 5.099452365172659\n",
            "Pulled arm 2, got reward 0.7800270821300319\n",
            "Pulled arm 2, got reward 0.9359118444203238\n",
            "Pulled arm 1, got reward 1.581940321761203\n",
            "Pulled arm 1, got reward 2.523377830563443\n"
          ]
        }
      ]
    },
    {
      "cell_type": "markdown",
      "source": [
        "### $\\epsilon$-Greedy Class\n",
        "\n",
        "Next we'll define an `EpsilonGreedyAgent` class that implements the $\\epsilon$-greedy algorithm for generic MABs. The algorithm implementation is based on the discussions in Sutton and Barto (2nd edition, 2018).\n",
        "\n",
        "In order to use the class, you need to provide it with an instance of the `Bandit` class defined above.\n",
        "\n",
        "Feel free to explore the code if you want, but all that's required is for you to execute the cell."
      ],
      "metadata": {
        "id": "totid_CXbVgt"
      }
    },
    {
      "cell_type": "code",
      "source": [
        "class EpsilonGreedyAgent(object):\n",
        "\n",
        "    def __init__(self, bandit: Bandit, epsilon: float = 0.1):\n",
        "        # Initialize the attributes.\n",
        "        self.bandit = bandit\n",
        "        self.epsilon = epsilon\n",
        "\n",
        "    def epsilon_greedy(self, num_time_steps: int = 1000, initial_Q: list = None):\n",
        "        # Initialize Q-value estimates (or use `initial_Q` if provided).\n",
        "        Q = initial_Q or [0] * self.bandit.k\n",
        "        # Initialize action counts.\n",
        "        N = [0] * self.bandit.k\n",
        "\n",
        "        # Initialize evaluation info.\n",
        "        \n",
        "        # Main loop.\n",
        "        for t in range(num_time_steps):\n",
        "\n",
        "            # Choose action.\n",
        "            if np.random.rand() < 1 - self.epsilon:\n",
        "                A = np.argmax(Q)\n",
        "            else:\n",
        "                A = np.random.randint(self.bandit.k)\n",
        "\n",
        "            # Get reward.\n",
        "            R = self.bandit.pull(A)\n",
        "\n",
        "            # Update stats.\n",
        "            N[A] += 1\n",
        "            Q[A] += (1 / N[A]) * (R - Q[A])\n",
        "\n",
        "        # Return Q estimates as well as best guess for optimal action.\n",
        "        return Q, np.argmax(Q)"
      ],
      "metadata": {
        "id": "FmUJRaMVbRtx"
      },
      "execution_count": null,
      "outputs": []
    },
    {
      "cell_type": "markdown",
      "source": [
        "Let's try it."
      ],
      "metadata": {
        "id": "kGibmGgOhVQ_"
      }
    },
    {
      "cell_type": "code",
      "source": [
        "agent = EpsilonGreedyAgent(bandit)\n",
        "Q, A = agent.epsilon_greedy()\n",
        "print(f\"Best guess for optimal action is {A}\")\n",
        "print(f\"Estimates of action values:\")\n",
        "for a in range(bandit.k):\n",
        "    print(f\"  {a}: {Q[a]}\")"
      ],
      "metadata": {
        "colab": {
          "base_uri": "https://localhost:8080/"
        },
        "id": "vMI4FlKHhTPQ",
        "outputId": "950d3251-501a-48f1-d479-64f5545cfb3d"
      },
      "execution_count": null,
      "outputs": [
        {
          "output_type": "stream",
          "name": "stdout",
          "text": [
            "Best guess for optimal action is 0\n",
            "Estimates of action values:\n",
            "  0: 5.003589599443503\n",
            "  1: 3.0567619013609133\n",
            "  2: 0.9906139191990377\n"
          ]
        }
      ]
    },
    {
      "cell_type": "markdown",
      "source": [
        "### The Newsvendor Bandit\n",
        "\n",
        "Now it's your turn. Your goal is to build a class called `NewsvendorBandit`. I started you off by building the structure of the class. (It's similar to the `Bandit` class declared earlier.) You need to fill in some details.\n",
        "\n",
        "A few things to note:\n",
        "\n",
        "* The `NewsvendorBandit` class takes a parameter `k`, like the `Bandit` class, that indicates the number of \"arms\". The arms will be indexed $a=0,\\ldots,k-1$, and arm $a$ corresponds to using an order quantity of $a$.\n",
        "* The class takes three parameters specifying the newsvendor problem instance: \n",
        "\n",
        "    * `h` and `p` are the holding and stockout costs\n",
        "    * `mu` is the mean of the Poisson demand distribution\n",
        "    \n",
        "* \"Pulling\" an arm should return the **negative of the cost of one newsvendor period,** based on a randomly generated demand, rather than returning a random variate from a particular distribution.\n",
        "\n",
        "---\n",
        "> **Note:** In the code below, the portions that you need to complete are marked with\n",
        "> \n",
        "> ```python\n",
        "> # #################\n",
        "> # TODO:\n",
        "> ```\n",
        "> \n",
        "> In place of the missing code is a line that says \n",
        "> \n",
        "> ```python\n",
        "> \traise NotImplementedError\n",
        "> ```\n",
        "> \n",
        "> This is a way of telling Python to raise an exception (error) because there's something missing here. You should **delete (or comment out) this line** after you write your code.\n",
        "\n",
        "---"
      ],
      "metadata": {
        "id": "xqpmsNTGiS5E"
      }
    },
    {
      "cell_type": "code",
      "source": [
        "class NewsvendorBandit(object):\n",
        "\n",
        "    def __init__(self, k: int = 10, h: float = 1, p: float = 10, mu: int = 5):\n",
        "        \"\"\"Initialize the attributes.\"\"\"\n",
        "        self.k = k\n",
        "\n",
        "        # #################\n",
        "        # TODO: store the attributes h, p, and mu in the object, too.\n",
        "        raise NotImplementedError\n",
        "\n",
        "    def pull(self, action: int):\n",
        "        \"\"\"Return a random newsvendor cost for the given action.\"\"\"\n",
        "\n",
        "        # Generate a Poisson(mu) random variate.\n",
        "        d = poisson.rvs(self.mu)\n",
        "\n",
        "        # #################\n",
        "        # TODO: Calculate the cost for the chosen action and the random demand.\n",
        "        # Set `reward` to the negative of this cost.\n",
        "        raise NotImplementedError\n",
        "\n",
        "        # Get a random variate from a normal distribution with the mean and SD\n",
        "        # corresponding to the action.\n",
        "        return reward"
      ],
      "metadata": {
        "id": "o3KQ7tiDj5Mj"
      },
      "execution_count": null,
      "outputs": []
    },
    {
      "cell_type": "code",
      "source": [
        "## SOLUTION ##\n",
        "class NewsvendorBandit(object):\n",
        "\n",
        "    def __init__(self, k: int = 10, h: float = 1, p: float = 10, mu: int = 5):\n",
        "        \"\"\"Initialize the attributes.\"\"\"\n",
        "        self.k = k\n",
        "\n",
        "        # Store the attributes h, p, and mu in the object, too.\n",
        "        self.h = h\n",
        "        self.p = p\n",
        "        self.mu = mu\n",
        "\n",
        "    def pull(self, action: int):\n",
        "        \"\"\"Return a random newsvendor cost for the given action.\"\"\"\n",
        "\n",
        "        # Generate a Poisson(mu) random variate.\n",
        "        d = poisson.rvs(self.mu)\n",
        "\n",
        "        # Calculate the cost for the chosen action and the random demand.\n",
        "        # Set `reward` to the negative of this cost.\n",
        "        cost = self.h * max(action - d, 0) + self.p * max(d - action, 0)\n",
        "        reward = -cost\n",
        "\n",
        "        # Get a random variate from a normal distribution with the mean and SD\n",
        "        # corresponding to the action.\n",
        "        return reward"
      ],
      "metadata": {
        "id": "UyaPN8PGnBhx"
      },
      "execution_count": null,
      "outputs": []
    },
    {
      "cell_type": "markdown",
      "source": [
        "Let's try out your `NewsvendorBandit` class on a newsvendor instance with:\n",
        "\n",
        "* $h=0.5$\n",
        "* $p=15$\n",
        "* $\\mu=4$\n",
        "\n",
        "We'll use 12 arms."
      ],
      "metadata": {
        "id": "iWGvFHxmpL7J"
      }
    },
    {
      "cell_type": "code",
      "source": [
        "# Build the bandit.\n",
        "num_arms = 12\n",
        "bandit = NewsvendorBandit(k=num_arms, h=0.5, p=15, mu=4)"
      ],
      "metadata": {
        "id": "Ge8dh2PAsoXa"
      },
      "execution_count": null,
      "outputs": []
    },
    {
      "cell_type": "code",
      "source": [
        "# Pull lever 5 a few times.\n",
        "a = 5\n",
        "for _ in range(10):\n",
        "    r = bandit.pull(a)\n",
        "    print(f\"Pulled arm {a}, got reward {r}\")"
      ],
      "metadata": {
        "colab": {
          "base_uri": "https://localhost:8080/"
        },
        "id": "e5yLPe5rsqjc",
        "outputId": "5d825e2e-1f6d-4978-edd9-5146ae24c033"
      },
      "execution_count": null,
      "outputs": [
        {
          "output_type": "stream",
          "name": "stdout",
          "text": [
            "Pulled arm 5, got reward -0.0\n",
            "Pulled arm 5, got reward -15.0\n",
            "Pulled arm 5, got reward -0.0\n",
            "Pulled arm 5, got reward -2.0\n",
            "Pulled arm 5, got reward -1.5\n",
            "Pulled arm 5, got reward -0.0\n",
            "Pulled arm 5, got reward -1.5\n",
            "Pulled arm 5, got reward -0.5\n",
            "Pulled arm 5, got reward -1.0\n",
            "Pulled arm 5, got reward -30.0\n"
          ]
        }
      ]
    },
    {
      "cell_type": "code",
      "source": [
        "# Pull it a lot of times and get the average reward.\n",
        "avg_reward = 0\n",
        "a = 5\n",
        "num_pulls = 10000\n",
        "for _ in range(num_pulls):\n",
        "    r = bandit.pull(a)\n",
        "    avg_reward += r / num_pulls\n",
        "print(f\"Pulled arm {a} {num_pulls} times, got average reward {avg_reward}\")"
      ],
      "metadata": {
        "colab": {
          "base_uri": "https://localhost:8080/"
        },
        "id": "a8IlvDjppE-3",
        "outputId": "5eead3d5-f57c-44a8-f8d3-b6c9b21820a1"
      },
      "execution_count": null,
      "outputs": [
        {
          "output_type": "stream",
          "name": "stdout",
          "text": [
            "Pulled arm 5 10000 times, got average reward -6.877249999999899\n"
          ]
        }
      ]
    },
    {
      "cell_type": "markdown",
      "source": [
        "Let's validate this using `stockpyl` by calculating the expected cost of using an order quantity of 5 (`stockpyl` calls this `base_stock_level`) for the given newsvendor instance."
      ],
      "metadata": {
        "id": "aR6s9gufqaRg"
      }
    },
    {
      "cell_type": "code",
      "source": [
        "_, exp_cost = newsvendor.newsvendor_poisson(\n",
        "    bandit.h,\n",
        "    bandit.p,\n",
        "    bandit.mu,\n",
        "    base_stock_level=a\n",
        ")\n",
        "print(f\"Exact expected cost for order quantity 5 is {exp_cost}\")"
      ],
      "metadata": {
        "colab": {
          "base_uri": "https://localhost:8080/"
        },
        "id": "gPs7W_bup1zW",
        "outputId": "b76f5f41-7fea-4cc9-d03d-c11dbb0bfe25"
      },
      "execution_count": null,
      "outputs": [
        {
          "output_type": "stream",
          "name": "stdout",
          "text": [
            "Exact expected cost for order quantity 5 is 6.859715013704245\n"
          ]
        }
      ]
    },
    {
      "cell_type": "markdown",
      "source": [
        "And let's get the *optimal* order quantity using `stockpyl`."
      ],
      "metadata": {
        "id": "XjX6zNg-tM0w"
      }
    },
    {
      "cell_type": "code",
      "source": [
        "opt_Q, opt_exp_cost = newsvendor.newsvendor_poisson(\n",
        "    bandit.h,\n",
        "    bandit.k,\n",
        "    bandit.mu\n",
        ")\n",
        "print(f\"Optimal order quantity is {opt_Q}, with expected cost {opt_exp_cost}\")"
      ],
      "metadata": {
        "colab": {
          "base_uri": "https://localhost:8080/"
        },
        "id": "9KgwktR5tKSu",
        "outputId": "5ed587e7-3c79-40cc-90e3-9e60d13a0077"
      },
      "execution_count": null,
      "outputs": [
        {
          "output_type": "stream",
          "name": "stdout",
          "text": [
            "Optimal order quantity is 8.0, with expected cost 2.4203373408439486\n"
          ]
        }
      ]
    },
    {
      "cell_type": "markdown",
      "source": [
        "---\n",
        "**Note:** Before proceeding, you should make sure that the results from your bandit are similar to those returned by `stockpyl`.\n",
        "\n",
        "---"
      ],
      "metadata": {
        "id": "KT-s9Y0Etfs9"
      }
    },
    {
      "cell_type": "markdown",
      "source": [
        "### Training the $\\epsilon$-Greedy Agent for the Newsvendor MAB\n",
        "\n",
        "Now let's train the $\\epsilon$-greedy agent on the newsvendor MAB. The `EpsilonGreedyAgent` class does not need any modifications—we built it to be very generic—so all you need to do is pass your newsvendor bandit to it."
      ],
      "metadata": {
        "id": "ZJ9vRzGsrhBu"
      }
    },
    {
      "cell_type": "code",
      "source": [
        "# #################\n",
        "# TODO: Train the epsilon-greedy agent on your `NewsvendorBandit` object.\n",
        "# Print the agent's buess guess for the optimal action, as well as its\n",
        "# estimates of the action values. (Use the analogous cell above as a template.)\n",
        "#raise NotImplementedError"
      ],
      "metadata": {
        "id": "jeCiauAFq9r8"
      },
      "execution_count": null,
      "outputs": []
    },
    {
      "cell_type": "code",
      "source": [
        "## SOLUTION\n",
        "agent = EpsilonGreedyAgent(bandit)\n",
        "Q, A = agent.epsilon_greedy(num_time_steps=1000)\n",
        "print(f\"Best guess for optimal action is {A}\")\n",
        "print(f\"Estimates of action values:\")\n",
        "for a in range(bandit.k):\n",
        "    print(f\"  {a}: {Q[a]}\")"
      ],
      "metadata": {
        "colab": {
          "base_uri": "https://localhost:8080/"
        },
        "id": "3vgfizqauU8_",
        "outputId": "dbf23cc5-bc60-411e-bb45-3fe68a57e431"
      },
      "execution_count": null,
      "outputs": [
        {
          "output_type": "stream",
          "name": "stdout",
          "text": [
            "Best guess for optimal action is 9\n",
            "Estimates of action values:\n",
            "  0: -63.0\n",
            "  1: -35.625\n",
            "  2: -27.5\n",
            "  3: -24.066666666666666\n",
            "  4: -21.2\n",
            "  5: -4.153846153846154\n",
            "  6: -9.357142857142858\n",
            "  7: -9.0625\n",
            "  8: -3.099999999999999\n",
            "  9: -2.7924311926605547\n",
            "  10: -2.916666666666667\n",
            "  11: -3.6666666666666665\n"
          ]
        }
      ]
    },
    {
      "cell_type": "markdown",
      "source": [
        "## Validating the Results\n",
        "\n",
        "Let's compare your trained agent's action-value estimates (or really, their negatives) with the true expected costs of those actions as calculated by `stockpyl`. \n",
        "\n",
        "(The code below assumes that you have stored the agent's estimates of the action values in a variable called `Q` in the previous cell.)"
      ],
      "metadata": {
        "id": "tBkBYNwTuhGP"
      }
    },
    {
      "cell_type": "code",
      "source": [
        "action_list = list(range(bandit.k))\n",
        "\n",
        "bandit_cost = [-Q[a] for a in action_list]\n",
        "exp_cost = [newsvendor.newsvendor_poisson(\n",
        "    bandit.h, \n",
        "    bandit.p, \n",
        "    bandit.mu, \n",
        "    base_stock_level=a\n",
        ")[1] for a in action_list]\n",
        "\n",
        "plt.scatter(action_list, bandit_cost, label='Bandit Cost Estimates')\n",
        "plt.scatter(action_list, exp_cost, label='True Expected Cost')\n",
        "plt.legend()\n",
        "plt.xlabel('Action')\n",
        "plt.ylabel('Cost');"
      ],
      "metadata": {
        "colab": {
          "base_uri": "https://localhost:8080/",
          "height": 279
        },
        "id": "noxioRjzuaS2",
        "outputId": "69e4fc47-5dd9-4888-9669-a826d915fcec"
      },
      "execution_count": null,
      "outputs": [
        {
          "output_type": "display_data",
          "data": {
            "text/plain": [
              "<Figure size 432x288 with 1 Axes>"
            ],
            "image/png": "[encoded data removed]"
          },
          "metadata": {
            "needs_background": "light"
          }
        }
      ]
    },
    {
      "cell_type": "markdown",
      "source": [
        "How good a job did your bandit and $\\epsilon$-greedy agent do of estimating the expected cost function for the newsvendor problem?\n",
        "\n",
        "(If you're not happy with the results, you can try increasing the `num_time_steps` parameter passed to the `epsilon_greedy()` method.)"
      ],
      "metadata": {
        "id": "cy5Wrkekw-BL"
      }
    },
    {
      "cell_type": "code",
      "source": [
        ""
      ],
      "metadata": {
        "id": "orJ896Z6D85c"
      },
      "execution_count": null,
      "outputs": []
    }
  ]
}