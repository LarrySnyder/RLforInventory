{
  "nbformat": 4,
  "nbformat_minor": 0,
  "metadata": {
    "colab": {
      "name": "A Quick Tour of Stockpyl.ipynb",
      "provenance": [],
      "collapsed_sections": [],
      "authorship_tag": "ABX9TyO88MqA/ZkxQgxwy/H1GRfZ",
      "include_colab_link": true
    },
    "kernelspec": {
      "name": "python3",
      "display_name": "Python 3"
    },
    "language_info": {
      "name": "python"
    }
  },
  "cells": [
    {
      "cell_type": "markdown",
      "metadata": {
        "id": "view-in-github",
        "colab_type": "text"
      },
      "source": [
        "<a href=\"https://colab.research.google.com/github/LarrySnyder/RLforInventory/blob/main/notebooks/A_Quick_Tour_of_Stockpyl.ipynb\" target=\"_parent\"><img src=\"https://colab.research.google.com/assets/colab-badge.svg\" alt=\"Open In Colab\"/></a>"
      ]
    },
    {
      "cell_type": "markdown",
      "source": [
        "# A Quick Tour of `stockpyl`\n",
        "\n",
        "This notebook gives a quick tour of the `stockpyl` Python package for inventory optimization and simulation. This notebook is essentially an interactive version of the overview given on the main page of the [documentation](https://stockpyl.readthedocs.io/en/latest/index.html).\n",
        "\n",
        "For more info:\n",
        "* `stockpyl` package on [PyPI](https://pypi.org/project/stockpyl/)\n",
        "* `stockpyl` documentation on [Read the Docs](https://stockpyl.readthedocs.io/en/latest/index.html)\n",
        "* `stockpyl` source code on [GitHub](https://github.com/LarrySnyder/stockpyl)"
      ],
      "metadata": {
        "id": "sfoDmop4UntV"
      }
    },
    {
      "cell_type": "markdown",
      "source": [
        "Stockpyl is a Python package for inventory optimization and simulation. It implements classical single-node inventory models like the economic order quantity (EOQ), newsvendor, and Wagner-Whitin problems. It also contains algorithms for multi-echelon inventory optimization (MEIO) under both stochastic-service model (SSM) and guaranteed-service model (GSM) assumptions. And, it has extensive features for simulating multi-echelon inventory systems.\n",
        "\n"
      ],
      "metadata": {
        "id": "5iXYfP5KVzYX"
      }
    },
    {
      "cell_type": "markdown",
      "source": [
        "---\n",
        "> The notation and references (equations, sections, examples, etc.) used below refer to Snyder and Shen, *Fundamentals of Supply Chain Theory* (*FoSCT*), 2nd edition (2019).\n",
        "---"
      ],
      "metadata": {
        "id": "oD03ooeuV1lx"
      }
    },
    {
      "cell_type": "markdown",
      "source": [
        "### Installation\n",
        "\n",
        "To install `stockpyl`, use `pip`:"
      ],
      "metadata": {
        "id": "lpOyLwcBVYO1"
      }
    },
    {
      "cell_type": "code",
      "execution_count": null,
      "metadata": {
        "id": "kzEampN5UlF7"
      },
      "outputs": [],
      "source": [
        "!pip install stockpyl"
      ]
    },
    {
      "cell_type": "markdown",
      "source": [
        "Import the package as usual:"
      ],
      "metadata": {
        "id": "tP88EMtyVluJ"
      }
    },
    {
      "cell_type": "code",
      "source": [
        "import stockpyl"
      ],
      "metadata": {
        "id": "HUIdACXmVgw_"
      },
      "execution_count": null,
      "outputs": []
    },
    {
      "cell_type": "markdown",
      "source": [
        "### Single-Echelon Inventory Optimization"
      ],
      "metadata": {
        "id": "fPYLSWSMVvKz"
      }
    },
    {
      "cell_type": "markdown",
      "source": [
        "Solve the EOQ problem with a fixed cost of 8, a holding cost of 0.225, and a demand rate of 1300 (Example 3.1 in *FoSCT*):"
      ],
      "metadata": {
        "id": "5X6ejLeCV87f"
      }
    },
    {
      "cell_type": "code",
      "source": [
        "from stockpyl.eoq import economic_order_quantity\n",
        "Q, cost = economic_order_quantity(fixed_cost=8, holding_cost=0.225, demand_rate=1300)\n",
        "print(f\"Q = {Q}, cost = {cost}\")\n"
      ],
      "metadata": {
        "id": "e4DG0KDEVtOU"
      },
      "execution_count": null,
      "outputs": []
    },
    {
      "cell_type": "markdown",
      "source": [
        "Or the newsvendor problem with a holding cost of 0.18, a stockout cost of 0.70, and demand that is normally distributed with mean 50 and standard deviation 8 (Example 4.3 in *FoSCT*):"
      ],
      "metadata": {
        "id": "PpD4btc5WHOv"
      }
    },
    {
      "cell_type": "code",
      "source": [
        "from stockpyl.newsvendor import newsvendor_normal\n",
        "S, cost = newsvendor_normal(holding_cost=0.18, stockout_cost=0.70, demand_mean=50, demand_sd=8)\n",
        "print(f\"S = {S}, cost = {cost}\")\n"
      ],
      "metadata": {
        "id": "a_K34nJpWDn7"
      },
      "execution_count": null,
      "outputs": []
    },
    {
      "cell_type": "markdown",
      "source": [
        "---\n",
        "> Note that most functions in Stockpyl use longer, more descriptive parameter names (`holding_cost`, `fixed_cost`, etc.) rather than the shorter notation assigned to them in textbooks and articles (`h`, `K`).\n",
        "---"
      ],
      "metadata": {
        "id": "v39ijUUHWNyi"
      }
    },
    {
      "cell_type": "markdown",
      "source": [
        "Stockpyl can solve the Wagner-Whitin model using dynamic programming:"
      ],
      "metadata": {
        "id": "-4T6piq_WpsP"
      }
    },
    {
      "cell_type": "code",
      "source": [
        "from stockpyl.wagner_whitin import wagner_whitin\n",
        "T = 4\n",
        "h = 2\n",
        "K = 500\n",
        "d = [90, 120, 80, 70]\n",
        "Q, cost, theta, s = wagner_whitin(T, h, K, d)\n",
        "print(f\"Optimal order quantities: Q = {Q}\")\n",
        "print(f\"Optimal cost: cost = {cost}\")\n",
        "print(f\"Cost-to-go values: theta = {theta}\")\n",
        "print(f\"Optimal next period to order in: s = {s}\")"
      ],
      "metadata": {
        "id": "yJCY6fG5WMqX"
      },
      "execution_count": null,
      "outputs": []
    },
    {
      "cell_type": "markdown",
      "source": [
        "And finite-horizon stochastic inventory problems:"
      ],
      "metadata": {
        "id": "9UScT7YKW6gP"
      }
    },
    {
      "cell_type": "code",
      "source": [
        "from stockpyl.finite_horizon import finite_horizon_dp\n",
        "T = 5\n",
        "h = 1\n",
        "p = 20\n",
        "h_terminal = 1\n",
        "p_terminal = 20\n",
        "c = 2\n",
        "K = 50\n",
        "mu = 100\n",
        "sigma = 20\n",
        "s, S, cost, _, _, _ = finite_horizon_dp(T, h, p, h_terminal, p_terminal, c, K, mu, sigma)\n",
        "print(f\"Reorder points: s = {s}\")\n",
        "print(f\"Order-up-to levels: S = {S}\")"
      ],
      "metadata": {
        "id": "ySGP2aAGW3-4"
      },
      "execution_count": null,
      "outputs": []
    },
    {
      "cell_type": "markdown",
      "source": [
        "### Multi-Echelon Inventory Optimization\n",
        "\n",
        "Stockpyl includes an implementation of the Clark and Scarf (1960) algorithm for stochastic serial systems (more precisely, Chen-Zheng’s (1994) reworking of it):"
      ],
      "metadata": {
        "id": "wSOjjh5sYJgO"
      }
    },
    {
      "cell_type": "code",
      "source": [
        "from stockpyl.supply_chain_network import serial_system\n",
        "from stockpyl.ssm_serial import optimize_base_stock_levels\n",
        "# Build network.\n",
        "network = serial_system(\n",
        "    num_nodes=3,\n",
        "    node_order_in_system=[3, 2, 1],\n",
        "    echelon_holding_cost=[4, 3, 1],\n",
        "    local_holding_cost=[4, 7, 8],\n",
        "    shipment_lead_time=[1, 1, 2],\n",
        "    stockout_cost=40,\n",
        "    demand_type='N',\n",
        "    mean=10,\n",
        "    standard_deviation=2\n",
        ")\n",
        "# Optimize echelon base-stock levels.\n",
        "S_star, C_star = optimize_base_stock_levels(network=network)\n",
        "print(f\"Optimal echelon base-stock levels: S_star = {S_star}\")\n",
        "print(f\"Optimal expected cost per period: C_star = {C_star}\")\n"
      ],
      "metadata": {
        "id": "FTuPg_MNW999"
      },
      "execution_count": null,
      "outputs": []
    },
    {
      "cell_type": "markdown",
      "source": [
        "It can also optimize guaranteed-service models (GSM). For example, it implements Graves and Willem's (2003) dynamic programming algorithm for tree systems:"
      ],
      "metadata": {
        "id": "_viJuJZ5YhCj"
      }
    },
    {
      "cell_type": "code",
      "source": [
        "from stockpyl.instances import load_instance\n",
        "from stockpyl.gsm_tree import optimize_committed_service_times\n",
        "tree = load_instance(\"example_6_5\")\n",
        "opt_cst, opt_cost = optimize_committed_service_times(tree)\n",
        "print(f\"Optimal committed services times: opt_cst = {opt_cst}\")\n",
        "print(f\"Optimal cost: opt_cost = {opt_cost}\")"
      ],
      "metadata": {
        "id": "orXiDW-4YZUi"
      },
      "execution_count": null,
      "outputs": []
    },
    {
      "cell_type": "markdown",
      "source": [
        "### Simulation\n",
        "\n",
        "Stockpyl has extensive features for simulating multi-echelon inventory systems. Below, we simulate the same serial system that we solved using Chen and Zheng's algorithm above, obtaining an average cost per period that is similar to what the theoretical model predicted."
      ],
      "metadata": {
        "id": "NGYkA42JZJI3"
      }
    },
    {
      "cell_type": "code",
      "source": [
        "from stockpyl.supply_chain_network import echelon_to_local_base_stock_levels\n",
        "from stockpyl.sim import simulation\n",
        "from stockpyl.policy import Policy\n",
        "# Convert to local base-stock levels and set nodes' inventory policies.\n",
        "S_star_local = echelon_to_local_base_stock_levels(network, S_star)\n",
        "for n in network.nodes:\n",
        "    n.inventory_policy = Policy(type='BS', base_stock_level=S_star_local[n.index], node=n)\n",
        "# Simulate the system.\n",
        "T = 1000\n",
        "total_cost = simulation(network=network, num_periods=T, rand_seed=42)\n",
        "print(f\"\\nAverage total cost per period = {total_cost/T}\")"
      ],
      "metadata": {
        "id": "5VKnXXCeY-I5"
      },
      "execution_count": null,
      "outputs": []
    },
    {
      "cell_type": "code",
      "source": [
        "# Display the simulation results. (See https://stockpyl.readthedocs.io/en/latest/api/simulation/sim_io.html\n",
        "# for a description of the column headers.)\n",
        "from stockpyl.sim_io import write_results\n",
        "write_results(network, num_periods=1000, periods_to_print=40, columns_to_print=['basic', 'costs'])"
      ],
      "metadata": {
        "id": "INNpRqPdZUza"
      },
      "execution_count": null,
      "outputs": []
    },
    {
      "cell_type": "code",
      "source": [
        ""
      ],
      "metadata": {
        "id": "n8U0naNWZy09"
      },
      "execution_count": null,
      "outputs": []
    }
  ]
}